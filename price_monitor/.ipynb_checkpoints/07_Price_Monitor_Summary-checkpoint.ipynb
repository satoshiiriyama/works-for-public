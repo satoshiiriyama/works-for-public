{
 "cells": [
  {
   "cell_type": "code",
   "execution_count": null,
   "metadata": {},
   "outputs": [],
   "source": [
    "# Dependencies\n",
    "import requests\n",
    "import bs4\n",
    "from datetime import datetime\n",
    "from pytz import timezone\n",
    "import pandas as pd\n",
    "import numpy as np\n",
    "import openpyxl\n",
    "from openpyxl.styles.fonts import Font\n",
    "from openpyxl.styles import PatternFill, Border, Side, Alignment, Protection, Font\n",
    "from openpyxl import Workbook"
   ]
  },
  {
   "cell_type": "code",
   "execution_count": null,
   "metadata": {},
   "outputs": [],
   "source": [
    "fmt_1 = \"%Y-%m-%d\"\n",
    "fmt_2 = \"%H:%M\"\n",
    "fmt_F = \"%H%M\"\n",
    "\n",
    "now_pst = datetime.now(timezone('US/Pacific'))\n",
    "\n",
    "now_date_fmt = now_pst.strftime(fmt_1)\n",
    "now_time_fmt = now_pst.strftime(fmt_2)\n",
    "now_time_fmt_F = now_pst.strftime(fmt_F)\n",
    "now_time_fmt_F"
   ]
  },
  {
   "cell_type": "code",
   "execution_count": null,
   "metadata": {},
   "outputs": [],
   "source": [
    "# Path\n",
    "price_path = \"Output/price_today.csv\"\n",
    "bby_path = \"Output/bby_result.csv\"\n",
    "bh_path = \"Output/bh_result.csv\"\n",
    "amazon_path = \"Output/amazon_result.csv\"\n",
    "walmart_path = \"Output/walmart_result.csv\"\n",
    "newegg_path = \"Output/newegg_result.csv\""
   ]
  },
  {
   "cell_type": "code",
   "execution_count": null,
   "metadata": {},
   "outputs": [],
   "source": [
    "price_df = pd.read_csv(price_path, encoding=\"utf-8\")\n",
    "price_df = price_df.set_index(\"Product\")\n",
    "price_df"
   ]
  },
  {
   "cell_type": "code",
   "execution_count": null,
   "metadata": {},
   "outputs": [],
   "source": [
    "bby_df = pd.read_csv(bby_path, encoding=\"utf-8\")\n",
    "bby_df = bby_df.set_index(\"Product\")\n",
    "bby_df"
   ]
  },
  {
   "cell_type": "code",
   "execution_count": null,
   "metadata": {},
   "outputs": [],
   "source": [
    "bh_df = pd.read_csv(bh_path, encoding=\"utf-8\")\n",
    "bh_df = bh_df.set_index(\"Product\")\n",
    "bh_df"
   ]
  },
  {
   "cell_type": "code",
   "execution_count": null,
   "metadata": {},
   "outputs": [],
   "source": [
    "amazon_df = pd.read_csv(amazon_path, encoding=\"utf-8\")\n",
    "amazon_df = amazon_df.set_index(\"Product\")\n",
    "amazon_df"
   ]
  },
  {
   "cell_type": "code",
   "execution_count": null,
   "metadata": {},
   "outputs": [],
   "source": [
    "walmart_df = pd.read_csv(walmart_path, encoding=\"utf-8\")\n",
    "walmart_df = walmart_df.set_index(\"Product\")\n",
    "walmart_df"
   ]
  },
  {
   "cell_type": "code",
   "execution_count": null,
   "metadata": {},
   "outputs": [],
   "source": [
    "newegg_df = pd.read_csv(newegg_path, encoding=\"utf-8\")\n",
    "newegg_df = newegg_df.set_index(\"Product\")\n",
    "newegg_df"
   ]
  },
  {
   "cell_type": "code",
   "execution_count": null,
   "metadata": {},
   "outputs": [],
   "source": [
    "master_df = None"
   ]
  },
  {
   "cell_type": "code",
   "execution_count": null,
   "metadata": {},
   "outputs": [],
   "source": [
    "master_df = pd.concat([master_df, price_df], axis=1, sort=False)"
   ]
  },
  {
   "cell_type": "code",
   "execution_count": null,
   "metadata": {},
   "outputs": [],
   "source": [
    "master_df = pd.concat([master_df, bby_df], axis=1, sort=False)"
   ]
  },
  {
   "cell_type": "code",
   "execution_count": null,
   "metadata": {},
   "outputs": [],
   "source": [
    "master_df = pd.concat([master_df, bh_df], axis=1, sort=False)"
   ]
  },
  {
   "cell_type": "code",
   "execution_count": null,
   "metadata": {},
   "outputs": [],
   "source": [
    "master_df = pd.concat([master_df, walmart_df], axis=1, sort=False)"
   ]
  },
  {
   "cell_type": "code",
   "execution_count": null,
   "metadata": {},
   "outputs": [],
   "source": [
    "master_df = pd.concat([master_df, newegg_df], axis=1, sort=False)"
   ]
  },
  {
   "cell_type": "code",
   "execution_count": null,
   "metadata": {},
   "outputs": [],
   "source": [
    "master_df = pd.concat([master_df, amazon_df], axis=1, sort=False)"
   ]
  },
  {
   "cell_type": "code",
   "execution_count": null,
   "metadata": {},
   "outputs": [],
   "source": [
    "master_df = master_df.reset_index()\n",
    "master_df = master_df.rename(columns={\"index\": \"Product\"})\n",
    "master_df"
   ]
  },
  {
   "cell_type": "code",
   "execution_count": null,
   "metadata": {},
   "outputs": [],
   "source": [
    "master_df.to_csv(f\"Output/{now_date_fmt}_{now_time_fmt_F}_Price_Monitor.csv\", index=False)\n",
    "master_df.to_excel(f\"Output/{now_date_fmt}_{now_time_fmt_F}_Price_Monitor.xlsx\", index=False)"
   ]
  },
  {
   "cell_type": "code",
   "execution_count": null,
   "metadata": {},
   "outputs": [],
   "source": [
    "wb =openpyxl.load_workbook(f'Output/{now_date_fmt}_{now_time_fmt_F}_Price_Monitor.xlsx')\n",
    "\n",
    "sheet = wb['Sheet1']\n",
    "\n",
    "sheet.column_dimensions['A'].width = 28\n",
    "\n",
    "sheet.column_dimensions['B'].width = 10\n",
    "sheet.column_dimensions['C'].width = 10\n",
    "sheet.column_dimensions['D'].width = 10\n",
    "sheet.column_dimensions['E'].width = 10\n",
    "sheet.column_dimensions['F'].width = 10\n",
    "sheet.column_dimensions['G'].width = 10\n",
    "sheet.column_dimensions['H'].width = 10\n",
    "sheet.column_dimensions['I'].width = 10\n",
    "sheet.column_dimensions['J'].width = 10\n",
    "sheet.column_dimensions['K'].width = 10\n",
    "sheet.column_dimensions['L'].width = 10\n",
    "sheet.column_dimensions['M'].width = 10\n",
    "sheet.column_dimensions['N'].width = 10\n",
    "sheet.column_dimensions['O'].width = 10\n",
    "sheet.column_dimensions['P'].width = 10\n",
    "sheet.column_dimensions['Q'].width = 10\n",
    "sheet.column_dimensions['R'].width = 10\n",
    "sheet.column_dimensions['S'].width = 10\n",
    "sheet.column_dimensions['T'].width = 10\n",
    "sheet.column_dimensions['U'].width = 10\n",
    "sheet.column_dimensions['V'].width = 10\n",
    "sheet.column_dimensions['W'].width = 10\n",
    "sheet.column_dimensions['X'].width = 10\n",
    "sheet.column_dimensions['Y'].width = 10\n",
    "sheet.column_dimensions['Z'].width = 10\n",
    "sheet.column_dimensions['AA'].width = 10\n",
    "sheet.column_dimensions['AB'].width = 10\n",
    "sheet.column_dimensions['AC'].width = 10\n",
    "sheet.column_dimensions['AD'].width = 10\n",
    "sheet.column_dimensions['AE'].width = 10\n",
    "sheet.column_dimensions['AF'].width = 10\n",
    "sheet.column_dimensions['AG'].width = 10\n",
    "sheet.column_dimensions['AH'].width = 10\n",
    "sheet.column_dimensions['AI'].width = 10\n",
    "sheet.column_dimensions['AJ'].width = 10\n",
    "sheet.column_dimensions['AK'].width = 10\n",
    "sheet.column_dimensions['AL'].width = 10\n",
    "sheet.column_dimensions['AM'].width = 10\n",
    "sheet.column_dimensions['AN'].width = 10\n",
    "sheet.column_dimensions['AO'].width = 10\n",
    "sheet.column_dimensions['AP'].width = 10\n",
    "sheet.column_dimensions['AQ'].width = 10\n",
    "sheet.column_dimensions['AR'].width = 10\n",
    "sheet.column_dimensions['AS'].width = 10\n",
    "sheet.column_dimensions['AT'].width = 10\n",
    "sheet.column_dimensions['AU'].width = 10\n",
    "sheet.column_dimensions['AV'].width = 10\n",
    "sheet.column_dimensions['AW'].width = 10\n",
    "sheet.column_dimensions['AX'].width = 10\n",
    "sheet.column_dimensions['AY'].width = 10\n",
    "sheet.column_dimensions['AZ'].width = 10\n",
    "\n",
    "sheet.freeze_panes = 'C2'\n",
    "\n",
    "fill_1 = openpyxl.styles.PatternFill(patternType='solid', fgColor='c6e2ff', bgColor='c6e2ff')\n",
    "fill_2 = openpyxl.styles.PatternFill(patternType='solid', fgColor='daedfe', bgColor='daedfe')\n",
    "\n",
    "for i in range(1,53):\n",
    "    sheet.cell(row=1, column=i).fill = fill_1\n",
    "    sheet.cell(row=1, column=i).alignment = Alignment(horizontal='center', vertical='center', wrap_text=True)\n",
    "    \n",
    "    for x in range(2, 242):\n",
    "        if x % 2 == 1:\n",
    "            sheet.cell(row=x, column=i).fill = fill_2\n",
    "\n",
    "for r in range(1, 242):\n",
    "    for c in range(1, 53):\n",
    "        sheet.cell(row=r, column=c).border = Border(outline=True, \n",
    "                                                    left=Side(style='dotted', color='FF000000'),\n",
    "                                                    right=Side(style='dotted', color='FF000000'), \n",
    "                                                    top=Side(style='dotted', color='FF000000'), \n",
    "                                                    bottom=Side(style='dotted', color='FF000000'))\n",
    "  \n",
    "sheet.sheet_view.showGridLines = False\n",
    "\n",
    "for r in range(2, 242):\n",
    "    for i in range(2,53):\n",
    "        if sheet.cell(row=r, column=i) != \"\":\n",
    "            sheet.cell(row=r, column=i).number_format = '$  #,##0.00' \n",
    "\n",
    "for r in range(2, 242):\n",
    "    for i in range(3,53):\n",
    "        if sheet.cell(row=r, column=i).value == None:\n",
    "            continue\n",
    "        \n",
    "        elif sheet.cell(row=r, column=2).value == None:\n",
    "            continue\n",
    "              \n",
    "        elif sheet.cell(row=r, column=i).value < sheet.cell(row=r, column=2).value:\n",
    "            sheet.cell(row=r, column=i).font = Font(color=\"FF0000\", bold=True)            \n",
    "            \n",
    "for r in range(2, 242):\n",
    "    sheet.cell(row=r, column=1).font = Font(bold=True)\n",
    "    sheet.cell(row=r, column=2).font = Font(bold=True)\n",
    "\n",
    "sheet.sheet_view.zoomScale = 85    \n",
    "    \n",
    "wb.save(f'Output/{now_date_fmt}_{now_time_fmt_F}_Price_Monitor.xlsx')"
   ]
  },
  {
   "cell_type": "code",
   "execution_count": null,
   "metadata": {},
   "outputs": [],
   "source": []
  },
  {
   "cell_type": "code",
   "execution_count": null,
   "metadata": {},
   "outputs": [],
   "source": []
  }
 ],
 "metadata": {
  "anaconda-cloud": {},
  "kernelspec": {
   "display_name": "Python 3",
   "language": "python",
   "name": "python3"
  },
  "language_info": {
   "codemirror_mode": {
    "name": "ipython",
    "version": 3
   },
   "file_extension": ".py",
   "mimetype": "text/x-python",
   "name": "python",
   "nbconvert_exporter": "python",
   "pygments_lexer": "ipython3",
   "version": "3.7.1"
  }
 },
 "nbformat": 4,
 "nbformat_minor": 1
}
