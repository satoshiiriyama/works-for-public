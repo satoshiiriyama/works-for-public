{
 "cells": [
  {
   "cell_type": "code",
   "execution_count": null,
   "metadata": {},
   "outputs": [],
   "source": [
    "# Dependencies\n",
    "from datetime import datetime\n",
    "import datetime as dt\n",
    "from pytz import timezone\n",
    "import pandas as pd\n",
    "import numpy as np"
   ]
  },
  {
   "cell_type": "code",
   "execution_count": null,
   "metadata": {},
   "outputs": [],
   "source": [
    "# Making time format\n",
    "date_format = \"%Y-%m-%d\"\n",
    "time_format = \"%H:%M\"\n",
    "date_time_format = \"%Y-%m-%d %H:%M\"\n",
    "year_format = \"%y\"\n",
    "week_format = \"Wk%y%W\"\n",
    "\n",
    "# Getting the current date & time\n",
    "now_pst = datetime.now(timezone('US/Pacific'))\n",
    "tomorrow_pst = now_pst + dt.timedelta(days=1)"
   ]
  },
  {
   "cell_type": "code",
   "execution_count": null,
   "metadata": {},
   "outputs": [],
   "source": [
    "# Getting ISO weeknumber and convert the format\n",
    "week_data = tomorrow_pst.isocalendar()[1]\n",
    "year_data = now_pst.strftime(year_format)\n",
    "\n",
    "if week_data < 10 :\n",
    "    week_data = \"Wk\" + year_data + \"0\" + str(week_data)\n",
    "else: \n",
    "    week_data = \"Wk\" + year_data + str(week_data)\n",
    "    \n",
    "week_data"
   ]
  },
  {
   "cell_type": "code",
   "execution_count": null,
   "metadata": {},
   "outputs": [],
   "source": [
    "csv_path = \"Resources/180830_price_master.csv\"\n",
    "\n",
    "# Import the books.csv file as a DataFrame\n",
    "price_master_df = pd.read_csv(csv_path, encoding=\"utf-8\")\n",
    "price_master_df"
   ]
  },
  {
   "cell_type": "code",
   "execution_count": null,
   "metadata": {},
   "outputs": [],
   "source": [
    "price_master_today_df = price_master_df[[\"Product\", week_data]]\n",
    "price_master_today_df"
   ]
  },
  {
   "cell_type": "code",
   "execution_count": null,
   "metadata": {},
   "outputs": [],
   "source": [
    "price_master_today_df = price_master_today_df.rename(columns={week_data: f\"Official Price {week_data}\"})\n",
    "price_master_today_df"
   ]
  },
  {
   "cell_type": "code",
   "execution_count": null,
   "metadata": {},
   "outputs": [],
   "source": [
    "price_master_today_df.to_csv(\"Output/price_today.csv\", index=False)"
   ]
  },
  {
   "cell_type": "code",
   "execution_count": null,
   "metadata": {},
   "outputs": [],
   "source": []
  }
 ],
 "metadata": {
  "anaconda-cloud": {},
  "kernelspec": {
   "display_name": "Python 3",
   "language": "python",
   "name": "python3"
  },
  "language_info": {
   "codemirror_mode": {
    "name": "ipython",
    "version": 3
   },
   "file_extension": ".py",
   "mimetype": "text/x-python",
   "name": "python",
   "nbconvert_exporter": "python",
   "pygments_lexer": "ipython3",
   "version": "3.7.1"
  }
 },
 "nbformat": 4,
 "nbformat_minor": 1
}
